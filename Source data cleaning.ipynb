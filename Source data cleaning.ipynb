{
 "cells": [
  {
   "cell_type": "code",
   "execution_count": 2,
   "metadata": {},
   "outputs": [],
   "source": [
    "import pandas as pd\n",
    "import numpy as np\n",
    "import random"
   ]
  },
  {
   "cell_type": "code",
   "execution_count": 3,
   "metadata": {},
   "outputs": [],
   "source": [
    "# Load the dataset into a Pandas DataFrame\n",
    "df1 = pd.read_csv(\"C:/Users/vrl2k/Desktop/MS/Summer 2023/Data Cleaning/Project/Food-inspection-csv.csv\")"
   ]
  },
  {
   "cell_type": "code",
   "execution_count": 4,
   "metadata": {},
   "outputs": [
    {
     "data": {
      "text/html": [
       "<div>\n",
       "<style scoped>\n",
       "    .dataframe tbody tr th:only-of-type {\n",
       "        vertical-align: middle;\n",
       "    }\n",
       "\n",
       "    .dataframe tbody tr th {\n",
       "        vertical-align: top;\n",
       "    }\n",
       "\n",
       "    .dataframe thead th {\n",
       "        text-align: right;\n",
       "    }\n",
       "</style>\n",
       "<table border=\"1\" class=\"dataframe\">\n",
       "  <thead>\n",
       "    <tr style=\"text-align: right;\">\n",
       "      <th></th>\n",
       "      <th>Inspection ID</th>\n",
       "      <th>DBA Name</th>\n",
       "      <th>AKA Name</th>\n",
       "      <th>License #</th>\n",
       "      <th>Facility Type</th>\n",
       "      <th>Risk 1</th>\n",
       "      <th>Risk 2</th>\n",
       "      <th>Address</th>\n",
       "      <th>City</th>\n",
       "      <th>State</th>\n",
       "      <th>Zip</th>\n",
       "      <th>Inspection Date</th>\n",
       "      <th>Inspection Type</th>\n",
       "      <th>Results</th>\n",
       "      <th>Violations</th>\n",
       "      <th>Latitude</th>\n",
       "      <th>Longitude</th>\n",
       "      <th>Location</th>\n",
       "    </tr>\n",
       "  </thead>\n",
       "  <tbody>\n",
       "    <tr>\n",
       "      <th>0</th>\n",
       "      <td>2079132</td>\n",
       "      <td>Marriot Marquis Chicago</td>\n",
       "      <td>Marriot Marquis Chicago</td>\n",
       "      <td>2517328.0</td>\n",
       "      <td>Restaurant</td>\n",
       "      <td>Risk 1</td>\n",
       "      <td>High</td>\n",
       "      <td>2121 S PRAIRIE AVE</td>\n",
       "      <td>Chicago</td>\n",
       "      <td>IL</td>\n",
       "      <td>60616.0</td>\n",
       "      <td>2017-08-28T00:00:00Z</td>\n",
       "      <td>License</td>\n",
       "      <td>Pass</td>\n",
       "      <td>NaN</td>\n",
       "      <td>41.853651</td>\n",
       "      <td>-87.620534</td>\n",
       "      <td>(41.853650885040594, -87.62053358114167)</td>\n",
       "    </tr>\n",
       "    <tr>\n",
       "      <th>1</th>\n",
       "      <td>2079129</td>\n",
       "      <td>Jets Pizza</td>\n",
       "      <td>Jet's Pizza</td>\n",
       "      <td>2522268.0</td>\n",
       "      <td>Restaurant</td>\n",
       "      <td>Risk 2</td>\n",
       "      <td>Medium</td>\n",
       "      <td>1025 W MADISON ST</td>\n",
       "      <td>Chicago</td>\n",
       "      <td>IL</td>\n",
       "      <td>60607.0</td>\n",
       "      <td>2017-08-28T00:00:00Z</td>\n",
       "      <td>License</td>\n",
       "      <td>Not Ready</td>\n",
       "      <td>NaN</td>\n",
       "      <td>41.881572</td>\n",
       "      <td>-87.653052</td>\n",
       "      <td>(41.88157249576794, -87.65305233593274)</td>\n",
       "    </tr>\n",
       "    <tr>\n",
       "      <th>2</th>\n",
       "      <td>2079125</td>\n",
       "      <td>Room 1520</td>\n",
       "      <td>Room 1520</td>\n",
       "      <td>2446638.0</td>\n",
       "      <td>Special Event</td>\n",
       "      <td>Risk 3</td>\n",
       "      <td>Low</td>\n",
       "      <td>301 N JUSTINE ST</td>\n",
       "      <td>Chicago</td>\n",
       "      <td>IL</td>\n",
       "      <td>60607.0</td>\n",
       "      <td>2017-08-28T00:00:00Z</td>\n",
       "      <td>License Re-inspection</td>\n",
       "      <td>Not Ready</td>\n",
       "      <td>8. SANITIZING RINSE FOR EQUIPMENT AND UTENSILS...</td>\n",
       "      <td>41.886577</td>\n",
       "      <td>-87.665328</td>\n",
       "      <td>(41.88657652150854, -87.66532812140231)</td>\n",
       "    </tr>\n",
       "  </tbody>\n",
       "</table>\n",
       "</div>"
      ],
      "text/plain": [
       "   Inspection ID                 DBA Name                 AKA Name  License #  \\\n",
       "0        2079132  Marriot Marquis Chicago  Marriot Marquis Chicago  2517328.0   \n",
       "1        2079129               Jets Pizza              Jet's Pizza  2522268.0   \n",
       "2        2079125                Room 1520                Room 1520  2446638.0   \n",
       "\n",
       "   Facility Type   Risk 1  Risk 2             Address     City State      Zip  \\\n",
       "0     Restaurant  Risk 1     High  2121 S PRAIRIE AVE  Chicago    IL  60616.0   \n",
       "1     Restaurant  Risk 2   Medium   1025 W MADISON ST  Chicago    IL  60607.0   \n",
       "2  Special Event  Risk 3      Low    301 N JUSTINE ST  Chicago    IL  60607.0   \n",
       "\n",
       "        Inspection Date        Inspection Type    Results  \\\n",
       "0  2017-08-28T00:00:00Z                License       Pass   \n",
       "1  2017-08-28T00:00:00Z                License  Not Ready   \n",
       "2  2017-08-28T00:00:00Z  License Re-inspection  Not Ready   \n",
       "\n",
       "                                          Violations   Latitude  Longitude  \\\n",
       "0                                                NaN  41.853651 -87.620534   \n",
       "1                                                NaN  41.881572 -87.653052   \n",
       "2  8. SANITIZING RINSE FOR EQUIPMENT AND UTENSILS...  41.886577 -87.665328   \n",
       "\n",
       "                                   Location  \n",
       "0  (41.853650885040594, -87.62053358114167)  \n",
       "1   (41.88157249576794, -87.65305233593274)  \n",
       "2   (41.88657652150854, -87.66532812140231)  "
      ]
     },
     "execution_count": 4,
     "metadata": {},
     "output_type": "execute_result"
    }
   ],
   "source": [
    "df1.head(3)"
   ]
  },
  {
   "cell_type": "code",
   "execution_count": 5,
   "metadata": {},
   "outputs": [
    {
     "data": {
      "text/plain": [
       "153810"
      ]
     },
     "execution_count": 5,
     "metadata": {},
     "output_type": "execute_result"
    }
   ],
   "source": [
    "row_count = len(df1)\n",
    "row_count"
   ]
  },
  {
   "cell_type": "code",
   "execution_count": 6,
   "metadata": {},
   "outputs": [
    {
     "data": {
      "text/plain": [
       "Inspection ID        int64\n",
       "DBA Name            object\n",
       "AKA Name            object\n",
       "License #          float64\n",
       "Facility Type       object\n",
       "Risk 1              object\n",
       "Risk 2              object\n",
       "Address             object\n",
       "City                object\n",
       "State               object\n",
       "Zip                float64\n",
       "Inspection Date     object\n",
       "Inspection Type     object\n",
       "Results             object\n",
       "Violations          object\n",
       "Latitude           float64\n",
       "Longitude          float64\n",
       "Location            object\n",
       "dtype: object"
      ]
     },
     "execution_count": 6,
     "metadata": {},
     "output_type": "execute_result"
    }
   ],
   "source": [
    "df1.dtypes"
   ]
  },
  {
   "cell_type": "code",
   "execution_count": 7,
   "metadata": {},
   "outputs": [],
   "source": [
    "#Rename the column name\n",
    "\n",
    "df1.rename(columns={'Inspection ID': 'INSPECTION_ID'}, inplace=True)\n",
    "df1.rename(columns={'DBA Name': 'FACILITY_ACTUAL_NAME'}, inplace=True)\n",
    "df1.rename(columns={'AKA Name': 'FACILITY_ALTERNATE_NAME'}, inplace=True)\n",
    "df1.rename(columns={'License #': 'LICENSE_ID'}, inplace=True)\n",
    "df1.rename(columns={'Facility Type': 'FACILITY_TYPE'}, inplace=True)\n",
    "df1.rename(columns={'Risk 1': 'RISK_1'}, inplace=True)\n",
    "df1.rename(columns={'Risk 2': 'RISK_TYPE'}, inplace=True)\n",
    "df1.rename(columns={'Address': 'STREET_ADDRESS'}, inplace=True)\n",
    "df1.rename(columns={'City': 'CITY'}, inplace=True)\n",
    "df1.rename(columns={'State': 'STATE'}, inplace=True)\n",
    "df1.rename(columns={'Zip': 'ZIP'}, inplace=True)\n",
    "df1.rename(columns={'Inspection Date': 'INSPECTION_DATE'}, inplace=True)\n",
    "df1.rename(columns={'Inspection Type': 'INSPECTION_TYPE'}, inplace=True)\n",
    "df1.rename(columns={'Results': 'INSPECTION_RESULT'}, inplace=True)\n",
    "df1.rename(columns={'Violations': 'VIOLATION_CONDTION'}, inplace=True)\n",
    "df1.rename(columns={'Latitude': 'LATITUDE'}, inplace=True)\n",
    "df1.rename(columns={'Longitude': 'LONDITUDE'}, inplace=True)\n",
    "df1.rename(columns={'Location': 'LOCATION'}, inplace=True)"
   ]
  },
  {
   "cell_type": "code",
   "execution_count": 8,
   "metadata": {},
   "outputs": [
    {
     "data": {
      "text/plain": [
       "INSPECTION_ID                int64\n",
       "FACILITY_ACTUAL_NAME        object\n",
       "FACILITY_ALTERNATE_NAME     object\n",
       "LICENSE_ID                 float64\n",
       "FACILITY_TYPE               object\n",
       "RISK_1                      object\n",
       "RISK_TYPE                   object\n",
       "STREET_ADDRESS              object\n",
       "CITY                        object\n",
       "STATE                       object\n",
       "ZIP                        float64\n",
       "INSPECTION_DATE             object\n",
       "INSPECTION_TYPE             object\n",
       "INSPECTION_RESULT           object\n",
       "VIOLATION_CONDTION          object\n",
       "LATITUDE                   float64\n",
       "LONDITUDE                  float64\n",
       "LOCATION                    object\n",
       "dtype: object"
      ]
     },
     "execution_count": 8,
     "metadata": {},
     "output_type": "execute_result"
    }
   ],
   "source": [
    "df1.dtypes"
   ]
  },
  {
   "cell_type": "code",
   "execution_count": 88,
   "metadata": {},
   "outputs": [],
   "source": [
    "#Create new table INSPECTION_FACT\n",
    "\n",
    "INSPECTION_FACT_COLUMNS = ['INSPECTION_ID','LICENSE_ID', 'FACILITY_ACTUAL_NAME','FACILITY_ALTERNATE_NAME','STREET_ADDRESS','CITY','STATE','ZIP','FACILITY_TYPE','INSPECTION_DATE','INSPECTION_TYPE','VIOLATION_CONDTION','RISK_TYPE','INSPECTION_RESULT']\n",
    "\n",
    "INSPECTION_FACT_DF = df1[INSPECTION_FACT_COLUMNS]\n",
    "\n",
    "# Export the dataframe to a .csv file\n",
    "INSPECTION_FACT_DF.to_csv('C:/Users/vrl2k/Desktop/MS/Summer 2023/Data Cleaning/Project/INSPECTION_FACT.csv', index=False)"
   ]
  },
  {
   "cell_type": "code",
   "execution_count": 18,
   "metadata": {},
   "outputs": [
    {
     "name": "stderr",
     "output_type": "stream",
     "text": [
      "C:\\Users\\vrl2k\\Anaconda3\\lib\\site-packages\\ipykernel_launcher.py:7: SettingWithCopyWarning: \n",
      "A value is trying to be set on a copy of a slice from a DataFrame\n",
      "\n",
      "See the caveats in the documentation: http://pandas.pydata.org/pandas-docs/stable/indexing.html#indexing-view-versus-copy\n",
      "  import sys\n",
      "C:\\Users\\vrl2k\\Anaconda3\\lib\\site-packages\\ipykernel_launcher.py:9: SettingWithCopyWarning: \n",
      "A value is trying to be set on a copy of a slice from a DataFrame.\n",
      "Try using .loc[row_indexer,col_indexer] = value instead\n",
      "\n",
      "See the caveats in the documentation: http://pandas.pydata.org/pandas-docs/stable/indexing.html#indexing-view-versus-copy\n",
      "  if __name__ == '__main__':\n",
      "C:\\Users\\vrl2k\\Anaconda3\\lib\\site-packages\\pandas\\core\\generic.py:5430: SettingWithCopyWarning: \n",
      "A value is trying to be set on a copy of a slice from a DataFrame\n",
      "\n",
      "See the caveats in the documentation: http://pandas.pydata.org/pandas-docs/stable/indexing.html#indexing-view-versus-copy\n",
      "  self._update_inplace(new_data)\n",
      "C:\\Users\\vrl2k\\Anaconda3\\lib\\site-packages\\ipykernel_launcher.py:13: SettingWithCopyWarning: \n",
      "A value is trying to be set on a copy of a slice from a DataFrame.\n",
      "Try using .loc[row_indexer,col_indexer] = value instead\n",
      "\n",
      "See the caveats in the documentation: http://pandas.pydata.org/pandas-docs/stable/indexing.html#indexing-view-versus-copy\n",
      "  del sys.path[0]\n"
     ]
    }
   ],
   "source": [
    "#Create new table FACILITY_DIM\n",
    "\n",
    "FACILITY_DIM_COLUMN = ['LICENSE_ID','FACILITY_ACTUAL_NAME','FACILITY_ALTERNATE_NAME','FACILITY_TYPE','STREET_ADDRESS','CITY','STATE','ZIP']\n",
    "\n",
    "FACILITY_DIM_DF = df1[FACILITY_DIM_COLUMN]\n",
    "\n",
    "# Drop records if null\n",
    "FACILITY_DIM_DF.dropna(subset=['LICENSE_ID'], inplace=True)\n",
    "\n",
    "#Convert columns datatype into Int\n",
    "FACILITY_DIM_DF['LICENSE_ID'] = FACILITY_DIM_DF['LICENSE_ID'].astype(int)\n",
    "\n",
    "FACILITY_DIM_DF['ZIP'].fillna(0, inplace=True)\n",
    "\n",
    "FACILITY_DIM_DF['ZIP'] = FACILITY_DIM_DF['ZIP'].astype(int)\n",
    "\n",
    "\n",
    "#Remove special Characters from the datafram\n",
    "\n",
    "special_char_pattern = r'[^a-zA-Z\\d\\s]'\n",
    "FACILITY_DIM_DF['FACILITY_ACTUAL_NAME'] = FACILITY_DIM_DF['FACILITY_ACTUAL_NAME'].str.replace(special_char_pattern, '')\n",
    "FACILITY_DIM_DF['FACILITY_ALTERNATE_NAME'] = FACILITY_DIM_DF['FACILITY_ALTERNATE_NAME'].str.replace(special_char_pattern, '')\n",
    "FACILITY_DIM_DF['STREET_ADDRESS'] = FACILITY_DIM_DF['STREET_ADDRESS'].str.replace(special_char_pattern, '')\n",
    "\n",
    "# Export the dataframe to a .csv file\n",
    "\n",
    "FACILITY_DIM_DF.to_csv('C:/Users/vrl2k/Desktop/MS/Summer 2023/Data Cleaning/Project/FACILITY_DIM.csv', index=False)"
   ]
  },
  {
   "cell_type": "code",
   "execution_count": 22,
   "metadata": {},
   "outputs": [
    {
     "name": "stderr",
     "output_type": "stream",
     "text": [
      "C:\\Users\\vrl2k\\Anaconda3\\lib\\site-packages\\ipykernel_launcher.py:8: SettingWithCopyWarning: \n",
      "A value is trying to be set on a copy of a slice from a DataFrame\n",
      "\n",
      "See the caveats in the documentation: http://pandas.pydata.org/pandas-docs/stable/indexing.html#indexing-view-versus-copy\n",
      "  \n",
      "C:\\Users\\vrl2k\\Anaconda3\\lib\\site-packages\\ipykernel_launcher.py:11: SettingWithCopyWarning: \n",
      "A value is trying to be set on a copy of a slice from a DataFrame.\n",
      "Try using .loc[row_indexer,col_indexer] = value instead\n",
      "\n",
      "See the caveats in the documentation: http://pandas.pydata.org/pandas-docs/stable/indexing.html#indexing-view-versus-copy\n",
      "  # This is added back by InteractiveShellApp.init_path()\n",
      "C:\\Users\\vrl2k\\Anaconda3\\lib\\site-packages\\pandas\\core\\generic.py:5430: SettingWithCopyWarning: \n",
      "A value is trying to be set on a copy of a slice from a DataFrame\n",
      "\n",
      "See the caveats in the documentation: http://pandas.pydata.org/pandas-docs/stable/indexing.html#indexing-view-versus-copy\n",
      "  self._update_inplace(new_data)\n",
      "C:\\Users\\vrl2k\\Anaconda3\\lib\\site-packages\\ipykernel_launcher.py:13: SettingWithCopyWarning: \n",
      "A value is trying to be set on a copy of a slice from a DataFrame.\n",
      "Try using .loc[row_indexer,col_indexer] = value instead\n",
      "\n",
      "See the caveats in the documentation: http://pandas.pydata.org/pandas-docs/stable/indexing.html#indexing-view-versus-copy\n",
      "  del sys.path[0]\n",
      "C:\\Users\\vrl2k\\Anaconda3\\lib\\site-packages\\ipykernel_launcher.py:17: SettingWithCopyWarning: \n",
      "A value is trying to be set on a copy of a slice from a DataFrame.\n",
      "Try using .loc[row_indexer,col_indexer] = value instead\n",
      "\n",
      "See the caveats in the documentation: http://pandas.pydata.org/pandas-docs/stable/indexing.html#indexing-view-versus-copy\n"
     ]
    }
   ],
   "source": [
    "#Create new table LOCATION_LOOKUP\n",
    "\n",
    "LOCATION_LOOKUP_COLUMN = ['LICENSE_ID','STREET_ADDRESS','CITY','STATE','ZIP','LATITUDE','LONDITUDE','LOCATION']\n",
    "\n",
    "LOCATION_LOOKUP_DF = df1[LOCATION_LOOKUP_COLUMN]\n",
    "\n",
    "# Drop records if null\n",
    "LOCATION_LOOKUP_DF.dropna(subset=['LICENSE_ID'], inplace=True)\n",
    "\n",
    "#Convert columns datatype into Int\n",
    "LOCATION_LOOKUP_DF['LICENSE_ID'] = LOCATION_LOOKUP_DF['LICENSE_ID'].astype(int)\n",
    "LOCATION_LOOKUP_DF['ZIP'].fillna(0, inplace=True)\n",
    "LOCATION_LOOKUP_DF['ZIP'] = LOCATION_LOOKUP_DF['ZIP'].astype(int)\n",
    "\n",
    "#Remove special Characters from the datafram\n",
    "special_char_pattern = r'[^a-zA-Z\\d\\s]'\n",
    "LOCATION_LOOKUP_DF['STREET_ADDRESS'] = LOCATION_LOOKUP_DF['STREET_ADDRESS'].str.replace(special_char_pattern, '')\n",
    "\n",
    "# Export the dataframe to a .csv file\n",
    "LOCATION_LOOKUP_DF.to_csv('C:/Users/vrl2k/Desktop/MS/Summer 2023/Data Cleaning/Project/LOCATION_LOOKUP.csv', index=False)"
   ]
  },
  {
   "cell_type": "code",
   "execution_count": null,
   "metadata": {},
   "outputs": [],
   "source": []
  }
 ],
 "metadata": {
  "kernelspec": {
   "display_name": "Python 3",
   "language": "python",
   "name": "python3"
  },
  "language_info": {
   "codemirror_mode": {
    "name": "ipython",
    "version": 3
   },
   "file_extension": ".py",
   "mimetype": "text/x-python",
   "name": "python",
   "nbconvert_exporter": "python",
   "pygments_lexer": "ipython3",
   "version": "3.6.5"
  }
 },
 "nbformat": 4,
 "nbformat_minor": 2
}
