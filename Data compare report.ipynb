{
 "cells": [
  {
   "cell_type": "code",
   "execution_count": 1,
   "metadata": {},
   "outputs": [],
   "source": [
    "import pandas as pd\n",
    "import numpy as np\n",
    "import random"
   ]
  },
  {
   "cell_type": "code",
   "execution_count": 2,
   "metadata": {},
   "outputs": [],
   "source": [
    "# Load the dataset into a Pandas DataFrame\n",
    "df1 = pd.read_csv(\"C:/Users/vrl2k/Desktop/MS/Summer 2023/Data Cleaning/Project/Food-inspection-csv.csv\")"
   ]
  },
  {
   "cell_type": "code",
   "execution_count": 3,
   "metadata": {},
   "outputs": [
    {
     "data": {
      "text/plain": [
       "Inspection ID          0\n",
       "DBA Name               0\n",
       "AKA Name            2543\n",
       "License #             15\n",
       "Facility Type       4560\n",
       "Risk 1                66\n",
       "Risk 2                85\n",
       "Address                3\n",
       "City                 159\n",
       "State                  0\n",
       "Zip                   98\n",
       "Inspection Date        0\n",
       "Inspection Type        1\n",
       "Results                0\n",
       "Violations         30798\n",
       "Latitude             544\n",
       "Longitude            544\n",
       "Location             544\n",
       "dtype: int64"
      ]
     },
     "execution_count": 3,
     "metadata": {},
     "output_type": "execute_result"
    }
   ],
   "source": [
    "df1.isnull().sum()"
   ]
  },
  {
   "cell_type": "code",
   "execution_count": 10,
   "metadata": {},
   "outputs": [],
   "source": [
    "INSPECTION_FACT_DF = pd.read_csv(\"C:/Users/vrl2k/Desktop/MS/Summer 2023/Data Cleaning/Project/INSPECTION_HIST.csv\")"
   ]
  },
  {
   "cell_type": "code",
   "execution_count": 11,
   "metadata": {},
   "outputs": [
    {
     "data": {
      "text/plain": [
       "INSPECTION_ID                 0\n",
       "LICENSE_ID                    0\n",
       "FACILITY_ACTUAL_NAME          0\n",
       "FACILITY_ALTERNATE_NAME    2543\n",
       "STREET_ADDRESS                3\n",
       "CITY                        159\n",
       "STATE                         0\n",
       "ZIP                           0\n",
       "FACILITY_TYPE              4560\n",
       "INSPECTION_DATE               0\n",
       "INSPECTION_TYPE               1\n",
       "RISK_TYPE                    85\n",
       "INSPECTION_RESULT             0\n",
       "dtype: int64"
      ]
     },
     "execution_count": 11,
     "metadata": {},
     "output_type": "execute_result"
    }
   ],
   "source": [
    "INSPECTION_FACT_DF.isnull().sum()"
   ]
  },
  {
   "cell_type": "code",
   "execution_count": 22,
   "metadata": {},
   "outputs": [
    {
     "name": "stdout",
     "output_type": "stream",
     "text": [
      "17136\n"
     ]
    }
   ],
   "source": [
    "# Use the str.contains() method with a regular expression to find rows with special characters\n",
    "rows_with_special_chars = df1[df1['Address'].str.contains(r'[^\\w\\s]', na=False)]\n",
    "\n",
    "# Get the number of rows with special characters\n",
    "num_rows_with_special_chars = len(rows_with_special_chars)\n",
    "\n",
    "print(num_rows_with_special_chars)"
   ]
  },
  {
   "cell_type": "code",
   "execution_count": 23,
   "metadata": {},
   "outputs": [
    {
     "name": "stdout",
     "output_type": "stream",
     "text": [
      "0\n"
     ]
    }
   ],
   "source": [
    "# Use the str.contains() method with a regular expression to find rows with special characters\n",
    "rows_with_special_chars = INSPECTION_FACT_DF[INSPECTION_FACT_DF['STREET_ADDRESS'].str.contains(r'[^\\w\\s]', na=False)]\n",
    "\n",
    "# Get the number of rows with special characters\n",
    "num_rows_with_special_chars = len(rows_with_special_chars)\n",
    "\n",
    "print(num_rows_with_special_chars)"
   ]
  },
  {
   "cell_type": "code",
   "execution_count": null,
   "metadata": {},
   "outputs": [],
   "source": []
  }
 ],
 "metadata": {
  "kernelspec": {
   "display_name": "Python 3",
   "language": "python",
   "name": "python3"
  },
  "language_info": {
   "codemirror_mode": {
    "name": "ipython",
    "version": 3
   },
   "file_extension": ".py",
   "mimetype": "text/x-python",
   "name": "python",
   "nbconvert_exporter": "python",
   "pygments_lexer": "ipython3",
   "version": "3.6.5"
  }
 },
 "nbformat": 4,
 "nbformat_minor": 2
}
